{
 "cells": [
  {
   "cell_type": "markdown",
   "metadata": {
    "pycharm": {
     "name": "#%% md\n"
    }
   },
   "source": [
    "## 导入库"
   ]
  },
  {
   "cell_type": "code",
   "execution_count": 42,
   "metadata": {
    "pycharm": {
     "name": "#%%\n"
    },
    "tags": []
   },
   "outputs": [],
   "source": [
    "import tensorflow as tf\n",
    "import numpy as np\n",
    "import pandas as pd\n",
    "import functools"
   ]
  },
  {
   "cell_type": "markdown",
   "metadata": {
    "pycharm": {
     "name": "#%% md\n"
    }
   },
   "source": [
    "## 加载数据"
   ]
  },
  {
   "cell_type": "markdown",
   "metadata": {},
   "source": [
    "### 读取训练数据和测试数据路径"
   ]
  },
  {
   "cell_type": "code",
   "execution_count": 20,
   "metadata": {
    "tags": []
   },
   "outputs": [],
   "source": [
    "train_file_path = ''\n",
    "test_file_path = ''"
   ]
  },
  {
   "cell_type": "markdown",
   "metadata": {},
   "source": [
    "### 设置标签列"
   ]
  },
  {
   "cell_type": "code",
   "execution_count": 25,
   "metadata": {},
   "outputs": [],
   "source": [
    "LABEL_COLUMN = 'PM'"
   ]
  },
  {
   "cell_type": "markdown",
   "metadata": {},
   "source": [
    "### 构建tensor数据集格式"
   ]
  },
  {
   "cell_type": "code",
   "execution_count": 26,
   "metadata": {},
   "outputs": [],
   "source": [
    "def get_dataset(file_path):\n",
    "    \"\"\"\n",
    "    构建tensorflow的数据集格式\n",
    "    \"\"\"\n",
    "    dataset = tf.data.experimental.make_csv_dataset(\n",
    "      file_path,\n",
    "      batch_size=12,\n",
    "      label_name=LABEL_COLUMN,\n",
    "      na_value=\"?\",\n",
    "      num_epochs=1,\n",
    "      ignore_errors=True)\n",
    "    return dataset"
   ]
  },
  {
   "cell_type": "code",
   "execution_count": 30,
   "metadata": {},
   "outputs": [],
   "source": [
    "raw_train_data = get_dataset(train_file_path)\n",
    "raw_test_data = get_dataset(test_file_path)"
   ]
  },
  {
   "cell_type": "markdown",
   "metadata": {},
   "source": [
    "## 数据预处理"
   ]
  },
  {
   "cell_type": "markdown",
   "metadata": {},
   "source": [
    "### 连续数据"
   ]
  },
  {
   "cell_type": "code",
   "execution_count": 37,
   "metadata": {},
   "outputs": [],
   "source": [
    "def process_continuous_data(mean, data):\n",
    "  # 标准化数据\n",
    "  data = tf.cast(data, tf.float32) * 1/(2*mean)\n",
    "  return tf.reshape(data, [-1, 1])"
   ]
  },
  {
   "cell_type": "code",
   "execution_count": 63,
   "metadata": {},
   "outputs": [],
   "source": [
    "MEANS = {\n",
    "    'TOAb1': 0.377115818,\n",
    "    'TOAb2': 0.327171313,\n",
    "    'TOAb3': 0.274613273,\n",
    "    'TOAb4': 0.335810444,\n",
    "    'TOAb5': 0.253371053,\n",
    "    'TOAb6': 0.172047367,\n",
    "    'SAA': 139.8266326,\n",
    "    'SAZ': 51.14860631,\n",
    "    'SOA': 4.170314475,\n",
    "    'SOZ': 64.99057161,\n",
    "    'V10': -2.188058381,\n",
    "    'U10': -1.117582186,\n",
    "    'BLH': 2591.388364,\n",
    "    'ET': -0.000456378,\n",
    "    'SP': 157312.8404,\n",
    "    'PRE': 0.006855383,\n",
    "    'TEM': 1.713888597,\n",
    "    'RH': 55.03757061,\n",
    "    'DEM': 0.462943548,\n",
    "    'LUCC': 12.05407903,\n",
    "    'NDVI': 0.104417258\n",
    "}\n",
    "\n",
    "\n",
    "numerical_columns = []\n",
    "\n",
    "for feature in MEANS.keys():\n",
    "  num_col = tf.feature_column.numeric_column(feature, normalizer_fn=functools.partial(process_continuous_data, MEANS[feature]))\n",
    "  numerical_columns.append(num_col)"
   ]
  },
  {
   "cell_type": "markdown",
   "metadata": {},
   "source": [
    "### 创建预处理层"
   ]
  },
  {
   "cell_type": "code",
   "execution_count": 65,
   "metadata": {},
   "outputs": [],
   "source": [
    "preprocessing_layer = tf.keras.layers.DenseFeatures(numerical_columns)"
   ]
  },
  {
   "cell_type": "markdown",
   "metadata": {},
   "source": [
    "## 搭建网络"
   ]
  },
  {
   "cell_type": "code",
   "execution_count": 66,
   "metadata": {},
   "outputs": [],
   "source": [
    "# 构建一个DNN模型h(g(f(x)))\n",
    "model = tf.keras.Sequential([\n",
    "    preprocessing_layer,\n",
    "    tf.keras.layers.Dense(64, activation='relu'),\n",
    "    tf.keras.layers.Dense(32, activation='relu'),\n",
    "    tf.keras.layers.Dense(16, activation='relu'),\n",
    "    tf.keras.layers.Dense(1, activation='sigmoid'),\n",
    "])"
   ]
  },
  {
   "cell_type": "markdown",
   "metadata": {},
   "source": [
    "## 配置训练方法"
   ]
  },
  {
   "cell_type": "code",
   "execution_count": 67,
   "metadata": {},
   "outputs": [],
   "source": [
    "model.compile(\n",
    "    loss='binary_crossentropy',\n",
    "    optimizer='adam',\n",
    "    metrics=['accuracy'])"
   ]
  },
  {
   "cell_type": "markdown",
   "metadata": {},
   "source": [
    "## 执行训练过程"
   ]
  },
  {
   "cell_type": "code",
   "execution_count": 68,
   "metadata": {},
   "outputs": [
    {
     "name": "stdout",
     "output_type": "stream",
     "text": [
      "Epoch 1/20\n",
      "WARNING:tensorflow:Layers in a Sequential model should only have a single input tensor, but we receive a <class 'collections.OrderedDict'> input: OrderedDict([('TOAb1', <tf.Tensor 'ExpandDims_13:0' shape=(None, 1) dtype=float32>), ('TOAb2', <tf.Tensor 'ExpandDims_14:0' shape=(None, 1) dtype=float32>), ('TOAb3', <tf.Tensor 'ExpandDims_15:0' shape=(None, 1) dtype=float32>), ('TOAb4', <tf.Tensor 'ExpandDims_16:0' shape=(None, 1) dtype=float32>), ('TOAb5', <tf.Tensor 'ExpandDims_17:0' shape=(None, 1) dtype=float32>), ('TOAb6', <tf.Tensor 'ExpandDims_18:0' shape=(None, 1) dtype=float32>), ('SAA', <tf.Tensor 'ExpandDims_7:0' shape=(None, 1) dtype=float32>), ('SAZ', <tf.Tensor 'ExpandDims_8:0' shape=(None, 1) dtype=float32>), ('SOA', <tf.Tensor 'ExpandDims_9:0' shape=(None, 1) dtype=float32>), ('SOZ', <tf.Tensor 'ExpandDims_10:0' shape=(None, 1) dtype=float32>), ('V10', <tf.Tensor 'ExpandDims_20:0' shape=(None, 1) dtype=float32>), ('U10', <tf.Tensor 'ExpandDims_19:0' shape=(None, 1) dtype=float32>), ('BLH', <tf.Tensor 'ExpandDims:0' shape=(None, 1) dtype=float32>), ('ET', <tf.Tensor 'ExpandDims_2:0' shape=(None, 1) dtype=float32>), ('SP', <tf.Tensor 'ExpandDims_11:0' shape=(None, 1) dtype=float32>), ('PRE', <tf.Tensor 'ExpandDims_5:0' shape=(None, 1) dtype=float32>), ('TEM', <tf.Tensor 'ExpandDims_12:0' shape=(None, 1) dtype=float32>), ('RH', <tf.Tensor 'ExpandDims_6:0' shape=(None, 1) dtype=float32>), ('DEM', <tf.Tensor 'ExpandDims_1:0' shape=(None, 1) dtype=float32>), ('LUCC', <tf.Tensor 'ExpandDims_3:0' shape=(None, 1) dtype=int32>), ('NDVI', <tf.Tensor 'ExpandDims_4:0' shape=(None, 1) dtype=float32>)])\n",
      "Consider rewriting this model with the Functional API.\n",
      "WARNING:tensorflow:Layers in a Sequential model should only have a single input tensor, but we receive a <class 'collections.OrderedDict'> input: OrderedDict([('TOAb1', <tf.Tensor 'ExpandDims_13:0' shape=(None, 1) dtype=float32>), ('TOAb2', <tf.Tensor 'ExpandDims_14:0' shape=(None, 1) dtype=float32>), ('TOAb3', <tf.Tensor 'ExpandDims_15:0' shape=(None, 1) dtype=float32>), ('TOAb4', <tf.Tensor 'ExpandDims_16:0' shape=(None, 1) dtype=float32>), ('TOAb5', <tf.Tensor 'ExpandDims_17:0' shape=(None, 1) dtype=float32>), ('TOAb6', <tf.Tensor 'ExpandDims_18:0' shape=(None, 1) dtype=float32>), ('SAA', <tf.Tensor 'ExpandDims_7:0' shape=(None, 1) dtype=float32>), ('SAZ', <tf.Tensor 'ExpandDims_8:0' shape=(None, 1) dtype=float32>), ('SOA', <tf.Tensor 'ExpandDims_9:0' shape=(None, 1) dtype=float32>), ('SOZ', <tf.Tensor 'ExpandDims_10:0' shape=(None, 1) dtype=float32>), ('V10', <tf.Tensor 'ExpandDims_20:0' shape=(None, 1) dtype=float32>), ('U10', <tf.Tensor 'ExpandDims_19:0' shape=(None, 1) dtype=float32>), ('BLH', <tf.Tensor 'ExpandDims:0' shape=(None, 1) dtype=float32>), ('ET', <tf.Tensor 'ExpandDims_2:0' shape=(None, 1) dtype=float32>), ('SP', <tf.Tensor 'ExpandDims_11:0' shape=(None, 1) dtype=float32>), ('PRE', <tf.Tensor 'ExpandDims_5:0' shape=(None, 1) dtype=float32>), ('TEM', <tf.Tensor 'ExpandDims_12:0' shape=(None, 1) dtype=float32>), ('RH', <tf.Tensor 'ExpandDims_6:0' shape=(None, 1) dtype=float32>), ('DEM', <tf.Tensor 'ExpandDims_1:0' shape=(None, 1) dtype=float32>), ('LUCC', <tf.Tensor 'ExpandDims_3:0' shape=(None, 1) dtype=int32>), ('NDVI', <tf.Tensor 'ExpandDims_4:0' shape=(None, 1) dtype=float32>)])\n",
      "Consider rewriting this model with the Functional API.\n",
      "6855/6855 [==============================] - 10s 1ms/step - loss: -8209461033.8386 - accuracy: 8.0032e-04\n",
      "Epoch 2/20\n",
      "6855/6855 [==============================] - 9s 1ms/step - loss: -314067124039.9907 - accuracy: 7.0997e-04\n",
      "Epoch 3/20\n",
      "6855/6855 [==============================] - 10s 1ms/step - loss: -1883958101688.6067 - accuracy: 7.5661e-04\n",
      "Epoch 4/20\n",
      "6855/6855 [==============================] - 11s 1ms/step - loss: -6199247565378.3154 - accuracy: 7.0255e-04\n",
      "Epoch 5/20\n",
      "6855/6855 [==============================] - 11s 2ms/step - loss: -15202297895746.0156 - accuracy: 8.6092e-04\n",
      "Epoch 6/20\n",
      "6855/6855 [==============================] - 10s 1ms/step - loss: -31216160301180.2656 - accuracy: 7.7984e-04\n",
      "Epoch 7/20\n",
      "6855/6855 [==============================] - 10s 1ms/step - loss: -56896738855578.7344 - accuracy: 8.0201e-04\n",
      "Epoch 8/20\n",
      "6855/6855 [==============================] - 10s 1ms/step - loss: -96005466245805.8594 - accuracy: 8.7615e-04\n",
      "Epoch 9/20\n",
      "6855/6855 [==============================] - 11s 2ms/step - loss: -151511202031909.9375 - accuracy: 8.0562e-04\n",
      "Epoch 10/20\n",
      "6855/6855 [==============================] - 12s 2ms/step - loss: -228313589501813.4062 - accuracy: 7.7220e-04\n",
      "Epoch 11/20\n",
      "6855/6855 [==============================] - 11s 2ms/step - loss: -330460745401887.6875 - accuracy: 7.2803e-04\n",
      "Epoch 12/20\n",
      "6855/6855 [==============================] - 10s 1ms/step - loss: -464396749534335.8750 - accuracy: 7.9277e-04\n",
      "Epoch 13/20\n",
      "6855/6855 [==============================] - 10s 1ms/step - loss: -633390253071246.5000 - accuracy: 7.6442e-04\n",
      "Epoch 14/20\n",
      "6855/6855 [==============================] - 10s 1ms/step - loss: -842992164107774.2500 - accuracy: 8.0983e-04\n",
      "Epoch 15/20\n",
      "6855/6855 [==============================] - 10s 1ms/step - loss: -1097632889336042.2500 - accuracy: 8.6972e-04\n",
      "Epoch 16/20\n",
      "6855/6855 [==============================] - 11s 2ms/step - loss: -1414656953306385.5000 - accuracy: 7.8289e-04\n",
      "Epoch 17/20\n",
      "6855/6855 [==============================] - 10s 1ms/step - loss: -1786348289258356.2500 - accuracy: 7.6235e-04\n",
      "Epoch 18/20\n",
      "6855/6855 [==============================] - 11s 2ms/step - loss: -2234202149732983.0000 - accuracy: 7.3613e-04\n",
      "Epoch 19/20\n",
      "6855/6855 [==============================] - 11s 2ms/step - loss: -2752097383192741.0000 - accuracy: 7.6204e-04\n",
      "Epoch 20/20\n",
      "6855/6855 [==============================] - 10s 1ms/step - loss: -3370293550706425.0000 - accuracy: 8.4821e-04\n"
     ]
    },
    {
     "data": {
      "text/plain": [
       "<tensorflow.python.keras.callbacks.History at 0x1f8004040a0>"
      ]
     },
     "execution_count": 68,
     "metadata": {},
     "output_type": "execute_result"
    }
   ],
   "source": [
    "train_data = raw_train_data.shuffle(500)\n",
    "test_data = raw_test_data\n",
    "\n",
    "model.fit(train_data, epochs=20)"
   ]
  },
  {
   "cell_type": "code",
   "execution_count": 69,
   "metadata": {},
   "outputs": [
    {
     "name": "stdout",
     "output_type": "stream",
     "text": [
      "WARNING:tensorflow:Layers in a Sequential model should only have a single input tensor, but we receive a <class 'collections.OrderedDict'> input: OrderedDict([('TOAb1', <tf.Tensor 'ExpandDims_13:0' shape=(None, 1) dtype=float32>), ('TOAb2', <tf.Tensor 'ExpandDims_14:0' shape=(None, 1) dtype=float32>), ('TOAb3', <tf.Tensor 'ExpandDims_15:0' shape=(None, 1) dtype=float32>), ('TOAb4', <tf.Tensor 'ExpandDims_16:0' shape=(None, 1) dtype=float32>), ('TOAb5', <tf.Tensor 'ExpandDims_17:0' shape=(None, 1) dtype=float32>), ('TOAb6', <tf.Tensor 'ExpandDims_18:0' shape=(None, 1) dtype=float32>), ('SAA', <tf.Tensor 'ExpandDims_7:0' shape=(None, 1) dtype=float32>), ('SAZ', <tf.Tensor 'ExpandDims_8:0' shape=(None, 1) dtype=float32>), ('SOA', <tf.Tensor 'ExpandDims_9:0' shape=(None, 1) dtype=float32>), ('SOZ', <tf.Tensor 'ExpandDims_10:0' shape=(None, 1) dtype=float32>), ('V10', <tf.Tensor 'ExpandDims_20:0' shape=(None, 1) dtype=float32>), ('U10', <tf.Tensor 'ExpandDims_19:0' shape=(None, 1) dtype=float32>), ('BLH', <tf.Tensor 'ExpandDims:0' shape=(None, 1) dtype=float32>), ('ET', <tf.Tensor 'ExpandDims_2:0' shape=(None, 1) dtype=float32>), ('SP', <tf.Tensor 'ExpandDims_11:0' shape=(None, 1) dtype=float32>), ('PRE', <tf.Tensor 'ExpandDims_5:0' shape=(None, 1) dtype=float32>), ('TEM', <tf.Tensor 'ExpandDims_12:0' shape=(None, 1) dtype=float32>), ('RH', <tf.Tensor 'ExpandDims_6:0' shape=(None, 1) dtype=float32>), ('DEM', <tf.Tensor 'ExpandDims_1:0' shape=(None, 1) dtype=float32>), ('LUCC', <tf.Tensor 'ExpandDims_3:0' shape=(None, 1) dtype=int32>), ('NDVI', <tf.Tensor 'ExpandDims_4:0' shape=(None, 1) dtype=float32>)])\n",
      "Consider rewriting this model with the Functional API.\n",
      "2227/2227 [==============================] - 3s 1ms/step - loss: -3204573346922496.0000 - accuracy: 3.7420e-04\n",
      "\n",
      "\n",
      "Test Loss -3204573346922496.0, Test Accuracy 0.0003741954860743135\n"
     ]
    }
   ],
   "source": [
    "test_loss, test_accuracy = model.evaluate(test_data)\n",
    "print('\\n\\nTest Loss {}, Test Accuracy {}'.format(test_loss, test_accuracy))"
   ]
  },
  {
   "cell_type": "code",
   "execution_count": 70,
   "metadata": {},
   "outputs": [
    {
     "name": "stdout",
     "output_type": "stream",
     "text": [
      "WARNING:tensorflow:Layers in a Sequential model should only have a single input tensor, but we receive a <class 'collections.OrderedDict'> input: OrderedDict([('TOAb1', <tf.Tensor 'ExpandDims_13:0' shape=(None, 1) dtype=float32>), ('TOAb2', <tf.Tensor 'ExpandDims_14:0' shape=(None, 1) dtype=float32>), ('TOAb3', <tf.Tensor 'ExpandDims_15:0' shape=(None, 1) dtype=float32>), ('TOAb4', <tf.Tensor 'ExpandDims_16:0' shape=(None, 1) dtype=float32>), ('TOAb5', <tf.Tensor 'ExpandDims_17:0' shape=(None, 1) dtype=float32>), ('TOAb6', <tf.Tensor 'ExpandDims_18:0' shape=(None, 1) dtype=float32>), ('SAA', <tf.Tensor 'ExpandDims_7:0' shape=(None, 1) dtype=float32>), ('SAZ', <tf.Tensor 'ExpandDims_8:0' shape=(None, 1) dtype=float32>), ('SOA', <tf.Tensor 'ExpandDims_9:0' shape=(None, 1) dtype=float32>), ('SOZ', <tf.Tensor 'ExpandDims_10:0' shape=(None, 1) dtype=float32>), ('V10', <tf.Tensor 'ExpandDims_20:0' shape=(None, 1) dtype=float32>), ('U10', <tf.Tensor 'ExpandDims_19:0' shape=(None, 1) dtype=float32>), ('BLH', <tf.Tensor 'ExpandDims:0' shape=(None, 1) dtype=float32>), ('ET', <tf.Tensor 'ExpandDims_2:0' shape=(None, 1) dtype=float32>), ('SP', <tf.Tensor 'ExpandDims_11:0' shape=(None, 1) dtype=float32>), ('PRE', <tf.Tensor 'ExpandDims_5:0' shape=(None, 1) dtype=float32>), ('TEM', <tf.Tensor 'ExpandDims_12:0' shape=(None, 1) dtype=float32>), ('RH', <tf.Tensor 'ExpandDims_6:0' shape=(None, 1) dtype=float32>), ('DEM', <tf.Tensor 'ExpandDims_1:0' shape=(None, 1) dtype=float32>), ('LUCC', <tf.Tensor 'ExpandDims_3:0' shape=(None, 1) dtype=int32>), ('NDVI', <tf.Tensor 'ExpandDims_4:0' shape=(None, 1) dtype=float32>)])\n",
      "Consider rewriting this model with the Functional API.\n",
      "Predicted survival: 100.00%  | Actual outcome:  SURVIVED\n",
      "Predicted survival: 100.00%  | Actual outcome:  SURVIVED\n",
      "Predicted survival: 100.00%  | Actual outcome:  SURVIVED\n",
      "Predicted survival: 100.00%  | Actual outcome:  SURVIVED\n",
      "Predicted survival: 100.00%  | Actual outcome:  SURVIVED\n",
      "Predicted survival: 100.00%  | Actual outcome:  SURVIVED\n",
      "Predicted survival: 100.00%  | Actual outcome:  SURVIVED\n",
      "Predicted survival: 100.00%  | Actual outcome:  SURVIVED\n",
      "Predicted survival: 100.00%  | Actual outcome:  SURVIVED\n",
      "Predicted survival: 100.00%  | Actual outcome:  SURVIVED\n"
     ]
    }
   ],
   "source": [
    "predictions = model.predict(test_data)\n",
    "\n",
    "# 显示部分结果\n",
    "for prediction, survived in zip(predictions[:10], list(test_data)[0][1][:10]):\n",
    "  print(\"Predicted survival: {:.2%}\".format(prediction[0]),\n",
    "        \" | Actual outcome: \",\n",
    "        (\"SURVIVED\" if bool(survived) else \"DIED\"))"
   ]
  },
  {
   "cell_type": "markdown",
   "metadata": {},
   "source": [
    "## 打印网络结构"
   ]
  },
  {
   "cell_type": "code",
   "execution_count": null,
   "metadata": {},
   "outputs": [],
   "source": [
    "model.summary()"
   ]
  }
 ],
 "metadata": {
  "kernelspec": {
   "display_name": "Python 3",
   "language": "python",
   "name": "python3"
  },
  "language_info": {
   "codemirror_mode": {
    "name": "ipython",
    "version": 3
   },
   "file_extension": ".py",
   "mimetype": "text/x-python",
   "name": "python",
   "nbconvert_exporter": "python",
   "pygments_lexer": "ipython3",
   "version": "3.8.8"
  },
  "toc": {
   "base_numbering": 1,
   "nav_menu": {},
   "number_sections": true,
   "sideBar": true,
   "skip_h1_title": false,
   "title_cell": "Table of Contents",
   "title_sidebar": "Contents",
   "toc_cell": false,
   "toc_position": {},
   "toc_section_display": true,
   "toc_window_display": false
  },
  "toc-autonumbering": true,
  "toc-showmarkdowntxt": false
 },
 "nbformat": 4,
 "nbformat_minor": 4
}
